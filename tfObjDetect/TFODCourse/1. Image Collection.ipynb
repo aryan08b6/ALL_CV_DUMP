{
 "cells": [
  {
   "cell_type": "markdown",
   "metadata": {},
   "source": [
    "# 1. Import Dependencies"
   ]
  },
  {
   "cell_type": "code",
   "execution_count": 1,
   "metadata": {},
   "outputs": [
    {
     "name": "stdout",
     "output_type": "stream",
     "text": [
      "Requirement already satisfied: opencv-python in c:\\users\\aryan\\documents\\code\\tfobjdetect\\tfodcourse\\tfod\\lib\\site-packages (4.8.1.78)\n",
      "Requirement already satisfied: numpy>=1.21.2 in c:\\users\\aryan\\documents\\code\\tfobjdetect\\tfodcourse\\tfod\\lib\\site-packages (from opencv-python) (1.26.2)\n"
     ]
    },
    {
     "name": "stderr",
     "output_type": "stream",
     "text": [
      "DEPRECATION: Loading egg at c:\\users\\aryan\\documents\\code\\tfobjdetect\\tfodcourse\\tfod\\lib\\site-packages\\keras-2.15.0-py3.12.egg is deprecated. pip 24.3 will enforce this behaviour change. A possible replacement is to use pip for package installation.. Discussion can be found at https://github.com/pypa/pip/issues/12330\n",
      "DEPRECATION: Loading egg at c:\\users\\aryan\\documents\\code\\tfobjdetect\\tfodcourse\\tfod\\lib\\site-packages\\object_detection-0.1-py3.12.egg is deprecated. pip 24.3 will enforce this behaviour change. A possible replacement is to use pip for package installation.. Discussion can be found at https://github.com/pypa/pip/issues/12330\n",
      "DEPRECATION: Loading egg at c:\\users\\aryan\\documents\\code\\tfobjdetect\\tfodcourse\\tfod\\lib\\site-packages\\pyparsing-2.4.7-py3.12.egg is deprecated. pip 24.3 will enforce this behaviour change. A possible replacement is to use pip for package installation.. Discussion can be found at https://github.com/pypa/pip/issues/12330\n",
      "DEPRECATION: Loading egg at c:\\users\\aryan\\documents\\code\\tfobjdetect\\tfodcourse\\tfod\\lib\\site-packages\\sacrebleu-2.2.0-py3.12.egg is deprecated. pip 24.3 will enforce this behaviour change. A possible replacement is to use pip for package installation.. Discussion can be found at https://github.com/pypa/pip/issues/12330\n"
     ]
    }
   ],
   "source": [
    "!pip install opencv-python"
   ]
  },
  {
   "cell_type": "code",
   "execution_count": 3,
   "metadata": {},
   "outputs": [],
   "source": [
    "# Import opencv\n",
    "import cv2 \n",
    "\n",
    "# Import uuid\n",
    "import uuid\n",
    "\n",
    "# Import Operating System\n",
    "import os\n",
    "\n",
    "# Import time\n",
    "import time"
   ]
  },
  {
   "cell_type": "markdown",
   "metadata": {},
   "source": [
    "# 2. Define Images to Collect"
   ]
  },
  {
   "cell_type": "code",
   "execution_count": 4,
   "metadata": {},
   "outputs": [],
   "source": [
    "labels = ['thumbsup', 'thumbsdown', 'thankyou', 'livelong']\n",
    "number_imgs = 5 "
   ]
  },
  {
   "cell_type": "markdown",
   "metadata": {},
   "source": [
    "# 3. Setup Folders "
   ]
  },
  {
   "cell_type": "code",
   "execution_count": 5,
   "metadata": {},
   "outputs": [],
   "source": [
    "IMAGES_PATH = os.path.join('Tensorflow', 'workspace', 'images', 'collectedimages')"
   ]
  },
  {
   "cell_type": "code",
   "execution_count": 8,
   "metadata": {},
   "outputs": [],
   "source": [
    "if not os.path.exists(IMAGES_PATH):\n",
    "    if os.name == 'posix':\n",
    "        !mkdir -p {IMAGES_PATH}\n",
    "    if os.name == 'nt':\n",
    "         !mkdir {IMAGES_PATH}\n",
    "for label in labels:\n",
    "    path = os.path.join(IMAGES_PATH, label)\n",
    "    if not os.path.exists(path):\n",
    "        !mkdir {path}"
   ]
  },
  {
   "cell_type": "markdown",
   "metadata": {},
   "source": [
    "# 4. Capture Images"
   ]
  },
  {
   "cell_type": "code",
   "execution_count": 9,
   "metadata": {},
   "outputs": [
    {
     "name": "stdout",
     "output_type": "stream",
     "text": [
      "Collecting images for thumbsup\n",
      "Collecting image 0\n",
      "Collecting image 1\n",
      "Collecting image 2\n",
      "Collecting image 3\n",
      "Collecting image 4\n",
      "Collecting images for thumbsdown\n",
      "Collecting image 0\n",
      "Collecting image 1\n",
      "Collecting image 2\n",
      "Collecting image 3\n",
      "Collecting image 4\n",
      "Collecting images for thankyou\n",
      "Collecting image 0\n",
      "Collecting image 1\n",
      "Collecting image 2\n",
      "Collecting image 3\n",
      "Collecting image 4\n",
      "Collecting images for livelong\n",
      "Collecting image 0\n",
      "Collecting image 1\n",
      "Collecting image 2\n",
      "Collecting image 3\n",
      "Collecting image 4\n"
     ]
    }
   ],
   "source": [
    "for label in labels:\n",
    "    cap = cv2.VideoCapture(0)\n",
    "    print('Collecting images for {}'.format(label))\n",
    "    time.sleep(5)\n",
    "    for imgnum in range(number_imgs):\n",
    "        print('Collecting image {}'.format(imgnum))\n",
    "        ret, frame = cap.read()\n",
    "        imgname = os.path.join(IMAGES_PATH,label,label+'.'+'{}.jpg'.format(str(uuid.uuid1())))\n",
    "        cv2.imwrite(imgname, frame)\n",
    "        cv2.imshow('frame', frame)\n",
    "        time.sleep(2)\n",
    "\n",
    "        if cv2.waitKey(1) & 0xFF == ord('q'):\n",
    "            break\n",
    "cap.release()\n",
    "cv2.destroyAllWindows()"
   ]
  },
  {
   "cell_type": "code",
   "execution_count": 1,
   "metadata": {},
   "outputs": [
    {
     "name": "stdout",
     "output_type": "stream",
     "text": [
      "First Image: ThumbsUp\n",
      "Taking Image For:  ThumbsUp\n",
      "Taking Image For:  ThumbsUp\n",
      "Taking Image For:  ThumbsUp\n",
      "Taking Image For:  ThumbsUp\n",
      "Taking Image For:  ThumbsUp\n",
      "Next Up:  h\n",
      "Taking Image For:  ThumbsDown\n",
      "Taking Image For:  ThumbsDown\n",
      "Taking Image For:  ThumbsDown\n",
      "Taking Image For:  ThumbsDown\n",
      "Taking Image For:  ThumbsDown\n",
      "Next Up:  u\n",
      "Taking Image For:  LiveLong\n",
      "Taking Image For:  LiveLong\n",
      "Taking Image For:  LiveLong\n",
      "Taking Image For:  LiveLong\n",
      "Taking Image For:  LiveLong\n",
      "Next Up:  e\n",
      "Taking Image For:  ThankYou\n",
      "Taking Image For:  ThankYou\n",
      "Taking Image For:  ThankYou\n",
      "Taking Image For:  ThankYou\n",
      "Taking Image For:  ThankYou\n"
     ]
    }
   ],
   "source": [
    "import cv2\n",
    "import os\n",
    "import uuid\n",
    "\n",
    "cap = cv2.VideoCapture(0)\n",
    "nSamples = 5\n",
    "\n",
    "IMAGES_PATH = os.path.join('Tensorflow', 'workspace', 'images', 'collectedimages')\n",
    "labels = [\"ThumbsUp\", \"ThumbsDown\", \"LiveLong\", \"ThankYou\"]\n",
    "\n",
    "if not os.path.exists(IMAGES_PATH):\n",
    "    if os.name == 'posix':\n",
    "        !mkdir -p {IMAGES_PATH}\n",
    "    if os.name == 'nt':\n",
    "         !mkdir {IMAGES_PATH}\n",
    "for label in labels:\n",
    "    path = os.path.join(IMAGES_PATH, label)\n",
    "    if not os.path.exists(path):\n",
    "        !mkdir {path}\n",
    "\n",
    "taken = 0\n",
    "i = 0\n",
    "print(\"First Image:\", labels[i])\n",
    "while True:\n",
    "    success, frame = cap.read()\n",
    "    cv2.imshow(\"Window\", frame)\n",
    "    if cv2.waitKey(1) == ord('s'):\n",
    "        if taken < nSamples:\n",
    "            label = labels[i]\n",
    "            imgname = os.path.join(IMAGES_PATH,label,label+'.'+'{}.jpg'.format(str(uuid.uuid1())))\n",
    "            taken+=1\n",
    "            print(\"Taking Image For: \", label)\n",
    "            cv2.imwrite(imgname, frame)\n",
    "        elif i==3 and taken==nSamples:\n",
    "            break\n",
    "        else:\n",
    "            i+=1\n",
    "            print(\"Next Up: \", label[i])\n",
    "            taken=0\n",
    "        \n",
    "        \n",
    "    "
   ]
  },
  {
   "cell_type": "markdown",
   "metadata": {},
   "source": [
    "# 5. Image Labelling"
   ]
  },
  {
   "cell_type": "code",
   "execution_count": 2,
   "metadata": {},
   "outputs": [
    {
     "name": "stdout",
     "output_type": "stream",
     "text": [
      "Requirement already satisfied: pyqt5 in c:\\users\\aryan\\documents\\code\\tfobjdetect\\tfodcourse\\tfod\\lib\\site-packages (5.15.10)\n",
      "Requirement already satisfied: lxml in c:\\users\\aryan\\documents\\code\\tfobjdetect\\tfodcourse\\tfod\\lib\\site-packages (4.9.3)\n",
      "Requirement already satisfied: PyQt5-sip<13,>=12.13 in c:\\users\\aryan\\documents\\code\\tfobjdetect\\tfodcourse\\tfod\\lib\\site-packages (from pyqt5) (12.13.0)\n",
      "Requirement already satisfied: PyQt5-Qt5>=5.15.2 in c:\\users\\aryan\\documents\\code\\tfobjdetect\\tfodcourse\\tfod\\lib\\site-packages (from pyqt5) (5.15.2)\n"
     ]
    }
   ],
   "source": [
    "!pip install --upgrade pyqt5 lxml"
   ]
  },
  {
   "cell_type": "code",
   "execution_count": 1,
   "metadata": {},
   "outputs": [],
   "source": [
    "import os\n",
    "LABELIMG_PATH = os.path.join('Tensorflow', 'labelimg')"
   ]
  },
  {
   "cell_type": "code",
   "execution_count": 2,
   "metadata": {},
   "outputs": [],
   "source": [
    "if not os.path.exists(LABELIMG_PATH):\n",
    "    !mkdir {LABELIMG_PATH}\n",
    "    !git clone https://github.com/tzutalin/labelImg {LABELIMG_PATH}"
   ]
  },
  {
   "cell_type": "code",
   "execution_count": 3,
   "metadata": {},
   "outputs": [],
   "source": [
    "if os.name == 'posix':\n",
    "    !make qt5py3\n",
    "if os.name =='nt':\n",
    "    !cd {LABELIMG_PATH} && pyrcc5 -o libs/resources.py resources.qrc"
   ]
  },
  {
   "cell_type": "code",
   "execution_count": 4,
   "metadata": {},
   "outputs": [
    {
     "name": "stdout",
     "output_type": "stream",
     "text": [
      "Loading setting failed\n",
      "Cancel creation.\n",
      "Cancel creation.\n",
      "Cancel creation.\n",
      "Cancel creation.\n",
      "Cancel creation.\n",
      "Image:C:\\Users\\aryan\\Documents\\Code\\tfObjDetect\\TFODCourse\\Tensorflow\\workspace\\images\\collectedimages\\LiveLong\\LiveLong.c3787c66-8af3-11ee-a26c-14ac60327206.jpg -> Annotation:C:/Users/aryan/Documents/Code/tfObjDetect/TFODCourse/Tensorflow/workspace/images/collectedimages/LiveLong\\LiveLong.c3787c66-8af3-11ee-a26c-14ac60327206.xml\n",
      "Image:C:\\Users\\aryan\\Documents\\Code\\tfObjDetect\\TFODCourse\\Tensorflow\\workspace\\images\\collectedimages\\LiveLong\\LiveLong.c2ca0374-8af3-11ee-bbc9-14ac60327206.jpg -> Annotation:C:/Users/aryan/Documents/Code/tfObjDetect/TFODCourse/Tensorflow/workspace/images/collectedimages/LiveLong\\LiveLong.c2ca0374-8af3-11ee-bbc9-14ac60327206.xml\n",
      "Image:C:\\Users\\aryan\\Documents\\Code\\tfObjDetect\\TFODCourse\\Tensorflow\\workspace\\images\\collectedimages\\LiveLong\\LiveLong.c2ca0374-8af3-11ee-bbc9-14ac60327206.jpg -> Annotation:C:/Users/aryan/Documents/Code/tfObjDetect/TFODCourse/Tensorflow/workspace/images/collectedimages/LiveLong\\LiveLong.c2ca0374-8af3-11ee-bbc9-14ac60327206.xml\n",
      "Cancel creation.\n",
      "Image:C:\\Users\\aryan\\Documents\\Code\\tfObjDetect\\TFODCourse\\Tensorflow\\workspace\\images\\collectedimages\\LiveLong\\LiveLong.c2ca0374-8af3-11ee-bbc9-14ac60327206.jpg -> Annotation:C:/Users/aryan/Documents/Code/tfObjDetect/TFODCourse/Tensorflow/workspace/images/collectedimages/LiveLong\\LiveLong.c2ca0374-8af3-11ee-bbc9-14ac60327206.xml\n",
      "Cancel creation.\n",
      "Image:C:\\Users\\aryan\\Documents\\Code\\tfObjDetect\\TFODCourse\\Tensorflow\\workspace\\images\\collectedimages\\LiveLong\\LiveLong.c3c793e2-8af3-11ee-97b9-14ac60327206.jpg -> Annotation:C:/Users/aryan/Documents/Code/tfObjDetect/TFODCourse/Tensorflow/workspace/images/collectedimages/LiveLong\\LiveLong.c3c793e2-8af3-11ee-97b9-14ac60327206.xml\n",
      "Image:C:\\Users\\aryan\\Documents\\Code\\tfObjDetect\\TFODCourse\\Tensorflow\\workspace\\images\\collectedimages\\LiveLong\\LiveLong.c328e4fd-8af3-11ee-89a8-14ac60327206.jpg -> Annotation:C:/Users/aryan/Documents/Code/tfObjDetect/TFODCourse/Tensorflow/workspace/images/collectedimages/LiveLong\\LiveLong.c328e4fd-8af3-11ee-89a8-14ac60327206.xml\n",
      "Image:C:\\Users\\aryan\\Documents\\Code\\tfObjDetect\\TFODCourse\\Tensorflow\\workspace\\images\\collectedimages\\LiveLong\\LiveLong.c450f464-8af3-11ee-b4e6-14ac60327206.jpg -> Annotation:C:/Users/aryan/Documents/Code/tfObjDetect/TFODCourse/Tensorflow/workspace/images/collectedimages/LiveLong\\LiveLong.c450f464-8af3-11ee-b4e6-14ac60327206.xml\n",
      "Cancel creation.\n",
      "Image:C:\\Users\\aryan\\Documents\\Code\\tfObjDetect\\TFODCourse\\Tensorflow\\workspace\\images\\collectedimages\\ThankYou\\ThankYou.d5ff473f-8af3-11ee-ab62-14ac60327206.jpg -> Annotation:C:/Users/aryan/Documents/Code/tfObjDetect/TFODCourse/Tensorflow/workspace/images/collectedimages/ThankYou\\ThankYou.d5ff473f-8af3-11ee-ab62-14ac60327206.xml\n",
      "Cancel creation.\n",
      "Cancel creation.\n",
      "Image:C:\\Users\\aryan\\Documents\\Code\\tfObjDetect\\TFODCourse\\Tensorflow\\workspace\\images\\collectedimages\\ThankYou\\ThankYou.d6d34ce0-8af3-11ee-b109-14ac60327206.jpg -> Annotation:C:/Users/aryan/Documents/Code/tfObjDetect/TFODCourse/Tensorflow/workspace/images/collectedimages/ThankYou\\ThankYou.d6d34ce0-8af3-11ee-b109-14ac60327206.xml\n",
      "Image:C:\\Users\\aryan\\Documents\\Code\\tfObjDetect\\TFODCourse\\Tensorflow\\workspace\\images\\collectedimages\\ThankYou\\ThankYou.d759e8cb-8af3-11ee-b8dd-14ac60327206.jpg -> Annotation:C:/Users/aryan/Documents/Code/tfObjDetect/TFODCourse/Tensorflow/workspace/images/collectedimages/ThankYou\\ThankYou.d759e8cb-8af3-11ee-b8dd-14ac60327206.xml\n",
      "Image:C:\\Users\\aryan\\Documents\\Code\\tfObjDetect\\TFODCourse\\Tensorflow\\workspace\\images\\collectedimages\\ThankYou\\ThankYou.d66fda1a-8af3-11ee-8585-14ac60327206.jpg -> Annotation:C:/Users/aryan/Documents/Code/tfObjDetect/TFODCourse/Tensorflow/workspace/images/collectedimages/ThankYou\\ThankYou.d66fda1a-8af3-11ee-8585-14ac60327206.xml\n",
      "Image:C:\\Users\\aryan\\Documents\\Code\\tfObjDetect\\TFODCourse\\Tensorflow\\workspace\\images\\collectedimages\\ThankYou\\ThankYou.d90ead2f-8af3-11ee-a73d-14ac60327206.jpg -> Annotation:C:/Users/aryan/Documents/Code/tfObjDetect/TFODCourse/Tensorflow/workspace/images/collectedimages/ThankYou\\ThankYou.d90ead2f-8af3-11ee-a73d-14ac60327206.xml\n",
      "Image:C:\\Users\\aryan\\Documents\\Code\\tfObjDetect\\TFODCourse\\Tensorflow\\workspace\\images\\collectedimages\\ThumbsDown\\ThumbsDown.bb52210d-8af3-11ee-9a2d-14ac60327206.jpg -> Annotation:C:/Users/aryan/Documents/Code/tfObjDetect/TFODCourse/Tensorflow/workspace/images/collectedimages/ThumbsDown\\ThumbsDown.bb52210d-8af3-11ee-9a2d-14ac60327206.xml\n",
      "Cancel creation.\n",
      "Cancel creation.\n",
      "Image:C:\\Users\\aryan\\Documents\\Code\\tfObjDetect\\TFODCourse\\Tensorflow\\workspace\\images\\collectedimages\\ThumbsDown\\ThumbsDown.bc770d9c-8af3-11ee-a8ec-14ac60327206.jpg -> Annotation:C:/Users/aryan/Documents/Code/tfObjDetect/TFODCourse/Tensorflow/workspace/images/collectedimages/ThumbsDown\\ThumbsDown.bc770d9c-8af3-11ee-a8ec-14ac60327206.xml\n",
      "Image:C:\\Users\\aryan\\Documents\\Code\\tfObjDetect\\TFODCourse\\Tensorflow\\workspace\\images\\collectedimages\\ThumbsDown\\ThumbsDown.bc17fc8c-8af3-11ee-aca6-14ac60327206.jpg -> Annotation:C:/Users/aryan/Documents/Code/tfObjDetect/TFODCourse/Tensorflow/workspace/images/collectedimages/ThumbsDown\\ThumbsDown.bc17fc8c-8af3-11ee-aca6-14ac60327206.xml\n",
      "Image:C:\\Users\\aryan\\Documents\\Code\\tfObjDetect\\TFODCourse\\Tensorflow\\workspace\\images\\collectedimages\\ThumbsDown\\ThumbsDown.bbb8a0bb-8af3-11ee-894a-14ac60327206.jpg -> Annotation:C:/Users/aryan/Documents/Code/tfObjDetect/TFODCourse/Tensorflow/workspace/images/collectedimages/ThumbsDown\\ThumbsDown.bbb8a0bb-8af3-11ee-894a-14ac60327206.xml\n",
      "Image:C:\\Users\\aryan\\Documents\\Code\\tfObjDetect\\TFODCourse\\Tensorflow\\workspace\\images\\collectedimages\\ThumbsDown\\ThumbsDown.bcbfd21c-8af3-11ee-bddd-14ac60327206.jpg -> Annotation:C:/Users/aryan/Documents/Code/tfObjDetect/TFODCourse/Tensorflow/workspace/images/collectedimages/ThumbsDown\\ThumbsDown.bcbfd21c-8af3-11ee-bddd-14ac60327206.xml\n",
      "Image:C:\\Users\\aryan\\Documents\\Code\\tfObjDetect\\TFODCourse\\Tensorflow\\workspace\\images\\collectedimages\\ThumbsUp\\ThumbsUp.a9ca3cb4-8af3-11ee-9d76-14ac60327206.jpg -> Annotation:C:/Users/aryan/Documents/Code/tfObjDetect/TFODCourse/Tensorflow/workspace/images/collectedimages/ThumbsUp\\ThumbsUp.a9ca3cb4-8af3-11ee-9d76-14ac60327206.xml\n",
      "Image:C:\\Users\\aryan\\Documents\\Code\\tfObjDetect\\TFODCourse\\Tensorflow\\workspace\\images\\collectedimages\\ThumbsUp\\ThumbsUp.a8df66de-8af3-11ee-b953-14ac60327206.jpg -> Annotation:C:/Users/aryan/Documents/Code/tfObjDetect/TFODCourse/Tensorflow/workspace/images/collectedimages/ThumbsUp\\ThumbsUp.a8df66de-8af3-11ee-b953-14ac60327206.xml\n",
      "Image:C:\\Users\\aryan\\Documents\\Code\\tfObjDetect\\TFODCourse\\Tensorflow\\workspace\\images\\collectedimages\\ThumbsUp\\ThumbsUp.a75cda11-8af3-11ee-af04-14ac60327206.jpg -> Annotation:C:/Users/aryan/Documents/Code/tfObjDetect/TFODCourse/Tensorflow/workspace/images/collectedimages/ThumbsUp\\ThumbsUp.a75cda11-8af3-11ee-af04-14ac60327206.xml\n",
      "Image:C:\\Users\\aryan\\Documents\\Code\\tfObjDetect\\TFODCourse\\Tensorflow\\workspace\\images\\collectedimages\\ThumbsUp\\ThumbsUp.a966fe31-8af3-11ee-abe1-14ac60327206.jpg -> Annotation:C:/Users/aryan/Documents/Code/tfObjDetect/TFODCourse/Tensorflow/workspace/images/collectedimages/ThumbsUp\\ThumbsUp.a966fe31-8af3-11ee-abe1-14ac60327206.xml\n",
      "Image:C:\\Users\\aryan\\Documents\\Code\\tfObjDetect\\TFODCourse\\Tensorflow\\workspace\\images\\collectedimages\\ThumbsUp\\ThumbsUp.aa689ed7-8af3-11ee-9951-14ac60327206.jpg -> Annotation:C:/Users/aryan/Documents/Code/tfObjDetect/TFODCourse/Tensorflow/workspace/images/collectedimages/ThumbsUp\\ThumbsUp.aa689ed7-8af3-11ee-9951-14ac60327206.xml\n"
     ]
    },
    {
     "name": "stderr",
     "output_type": "stream",
     "text": [
      "2023-11-24T20:28:57.516ZE [66708:ShellIpcClient] shell_ipc_client.cc:139:Connect Can't connect to socket at: \\\\.\\Pipe\\GoogleDriveFSPipe_aryan_shell\n",
      "2023-11-24T20:28:57.518ZE [66708:ShellIpcClient] shell_ipc_client.cc:622:operator() Failed to connect to the server: NOT_FOUND: Can't connect to socket at: \\\\.\\Pipe\\GoogleDriveFSPipe_aryan_shell [type.googleapis.com/drive.ds.Status='UNAVAILABLE_RESOURCE']\n",
      "=== Source Location Trace: === \n",
      "apps/drive/fs/ipc/shell_ipc_client.cc:140\n",
      "\n",
      "2023-11-24T20:28:57.518ZE [36208:ShellIpcClient] shell_ipc_client.cc:139:Connect Can't connect to socket at: \\\\.\\Pipe\\GoogleDriveFSPipe_aryan_shell\n",
      "2023-11-24T20:28:57.518ZE [36208:ShellIpcClient] shell_ipc_client.cc:622:operator() Failed to connect to the server: NOT_FOUND: Can't connect to socket at: \\\\.\\Pipe\\GoogleDriveFSPipe_aryan_shell [type.googleapis.com/drive.ds.Status='UNAVAILABLE_RESOURCE']\n",
      "=== Source Location Trace: === \n",
      "apps/drive/fs/ipc/shell_ipc_client.cc:140\n",
      "\n",
      "2023-11-24T20:28:57.519ZE [39580:ShellIpcClient] shell_ipc_client.cc:139:Connect Can't connect to socket at: \\\\.\\Pipe\\GoogleDriveFSPipe_aryan_shell\n",
      "2023-11-24T20:28:57.519ZE [39580:ShellIpcClient] shell_ipc_client.cc:622:operator() Failed to connect to the server: NOT_FOUND: Can't connect to socket at: \\\\.\\Pipe\\GoogleDriveFSPipe_aryan_shell [type.googleapis.com/drive.ds.Status='UNAVAILABLE_RESOURCE']\n",
      "=== Source Location Trace: === \n",
      "apps/drive/fs/ipc/shell_ipc_client.cc:140\n",
      "\n",
      "2023-11-24T20:29:00.168ZE [66708:ShellIpcClient] shell_ipc_client.cc:139:Connect Can't connect to socket at: \\\\.\\Pipe\\GoogleDriveFSPipe_aryan_shell\n",
      "2023-11-24T20:29:00.168ZE [66708:ShellIpcClient] shell_ipc_client.cc:622:operator() Failed to connect to the server: NOT_FOUND: Can't connect to socket at: \\\\.\\Pipe\\GoogleDriveFSPipe_aryan_shell [type.googleapis.com/drive.ds.Status='UNAVAILABLE_RESOURCE']\n",
      "=== Source Location Trace: === \n",
      "apps/drive/fs/ipc/shell_ipc_client.cc:140\n",
      "\n",
      "2023-11-24T20:29:00.168ZE [36208:ShellIpcClient] shell_ipc_client.cc:139:Connect Can't connect to socket at: \\\\.\\Pipe\\GoogleDriveFSPipe_aryan_shell\n",
      "2023-11-24T20:29:00.168ZE [36208:ShellIpcClient] shell_ipc_client.cc:622:operator() Failed to connect to the server: NOT_FOUND: Can't connect to socket at: \\\\.\\Pipe\\GoogleDriveFSPipe_aryan_shell [type.googleapis.com/drive.ds.Status='UNAVAILABLE_RESOURCE']\n",
      "=== Source Location Trace: === \n",
      "apps/drive/fs/ipc/shell_ipc_client.cc:140\n",
      "\n",
      "2023-11-24T20:29:00.168ZE [39580:ShellIpcClient] shell_ipc_client.cc:139:Connect Can't connect to socket at: \\\\.\\Pipe\\GoogleDriveFSPipe_aryan_shell\n",
      "2023-11-24T20:29:00.168ZE [39580:ShellIpcClient] shell_ipc_client.cc:622:operator() Failed to connect to the server: NOT_FOUND: Can't connect to socket at: \\\\.\\Pipe\\GoogleDriveFSPipe_aryan_shell [type.googleapis.com/drive.ds.Status='UNAVAILABLE_RESOURCE']\n",
      "=== Source Location Trace: === \n",
      "apps/drive/fs/ipc/shell_ipc_client.cc:140\n",
      "\n",
      "2023-11-24T20:43:59.627ZE [66708:ShellIpcClient] shell_ipc_client.cc:139:Connect Can't connect to socket at: \\\\.\\Pipe\\GoogleDriveFSPipe_aryan_shell\n",
      "2023-11-24T20:43:59.627ZE [66708:ShellIpcClient] shell_ipc_client.cc:622:operator() Failed to connect to the server: NOT_FOUND: Can't connect to socket at: \\\\.\\Pipe\\GoogleDriveFSPipe_aryan_shell [type.googleapis.com/drive.ds.Status='UNAVAILABLE_RESOURCE']\n",
      "=== Source Location Trace: === \n",
      "apps/drive/fs/ipc/shell_ipc_client.cc:140\n",
      "\n",
      "2023-11-24T20:43:59.627ZE [36208:ShellIpcClient] shell_ipc_client.cc:139:Connect Can't connect to socket at: \\\\.\\Pipe\\GoogleDriveFSPipe_aryan_shell\n",
      "2023-11-24T20:43:59.627ZE [36208:ShellIpcClient] shell_ipc_client.cc:622:operator() Failed to connect to the server: NOT_FOUND: Can't connect to socket at: \\\\.\\Pipe\\GoogleDriveFSPipe_aryan_shell [type.googleapis.com/drive.ds.Status='UNAVAILABLE_RESOURCE']\n",
      "=== Source Location Trace: === \n",
      "apps/drive/fs/ipc/shell_ipc_client.cc:140\n",
      "\n",
      "2023-11-24T20:43:59.627ZE [39580:ShellIpcClient] shell_ipc_client.cc:139:Connect Can't connect to socket at: \\\\.\\Pipe\\GoogleDriveFSPipe_aryan_shell\n",
      "2023-11-24T20:43:59.627ZE [39580:ShellIpcClient] shell_ipc_client.cc:622:operator() Failed to connect to the server: NOT_FOUND: Can't connect to socket at: \\\\.\\Pipe\\GoogleDriveFSPipe_aryan_shell [type.googleapis.com/drive.ds.Status='UNAVAILABLE_RESOURCE']\n",
      "=== Source Location Trace: === \n",
      "apps/drive/fs/ipc/shell_ipc_client.cc:140\n",
      "\n",
      "2023-11-24T20:51:18.320ZE [66708:ShellIpcClient] shell_ipc_client.cc:139:Connect Can't connect to socket at: \\\\.\\Pipe\\GoogleDriveFSPipe_aryan_shell\n",
      "2023-11-24T20:51:18.320ZE [66708:ShellIpcClient] shell_ipc_client.cc:622:operator() Failed to connect to the server: NOT_FOUND: Can't connect to socket at: \\\\.\\Pipe\\GoogleDriveFSPipe_aryan_shell [type.googleapis.com/drive.ds.Status='UNAVAILABLE_RESOURCE']\n",
      "=== Source Location Trace: === \n",
      "apps/drive/fs/ipc/shell_ipc_client.cc:140\n",
      "\n",
      "2023-11-24T20:51:18.320ZE [36208:ShellIpcClient] shell_ipc_client.cc:139:Connect Can't connect to socket at: \\\\.\\Pipe\\GoogleDriveFSPipe_aryan_shell\n",
      "2023-11-24T20:51:18.320ZE [36208:ShellIpcClient] shell_ipc_client.cc:622:operator() Failed to connect to the server: NOT_FOUND: Can't connect to socket at: \\\\.\\Pipe\\GoogleDriveFSPipe_aryan_shell [type.googleapis.com/drive.ds.Status='UNAVAILABLE_RESOURCE']\n",
      "=== Source Location Trace: === \n",
      "apps/drive/fs/ipc/shell_ipc_client.cc:140\n",
      "\n",
      "2023-11-24T20:51:18.320ZE [39580:ShellIpcClient] shell_ipc_client.cc:139:Connect Can't connect to socket at: \\\\.\\Pipe\\GoogleDriveFSPipe_aryan_shell\n",
      "2023-11-24T20:51:18.320ZE [39580:ShellIpcClient] shell_ipc_client.cc:622:operator() Failed to connect to the server: NOT_FOUND: Can't connect to socket at: \\\\.\\Pipe\\GoogleDriveFSPipe_aryan_shell [type.googleapis.com/drive.ds.Status='UNAVAILABLE_RESOURCE']\n",
      "=== Source Location Trace: === \n",
      "apps/drive/fs/ipc/shell_ipc_client.cc:140\n",
      "\n",
      "2023-11-24T20:53:45.397ZE [66708:ShellIpcClient] shell_ipc_client.cc:139:Connect Can't connect to socket at: \\\\.\\Pipe\\GoogleDriveFSPipe_aryan_shell\n",
      "2023-11-24T20:53:45.397ZE [66708:ShellIpcClient] shell_ipc_client.cc:622:operator() Failed to connect to the server: NOT_FOUND: Can't connect to socket at: \\\\.\\Pipe\\GoogleDriveFSPipe_aryan_shell [type.googleapis.com/drive.ds.Status='UNAVAILABLE_RESOURCE']\n",
      "=== Source Location Trace: === \n",
      "apps/drive/fs/ipc/shell_ipc_client.cc:140\n",
      "\n",
      "2023-11-24T20:53:45.397ZE [36208:ShellIpcClient] shell_ipc_client.cc:139:Connect Can't connect to socket at: \\\\.\\Pipe\\GoogleDriveFSPipe_aryan_shell\n",
      "2023-11-24T20:53:45.397ZE [36208:ShellIpcClient] shell_ipc_client.cc:622:operator() Failed to connect to the server: NOT_FOUND: Can't connect to socket at: \\\\.\\Pipe\\GoogleDriveFSPipe_aryan_shell [type.googleapis.com/drive.ds.Status='UNAVAILABLE_RESOURCE']\n",
      "=== Source Location Trace: === \n",
      "apps/drive/fs/ipc/shell_ipc_client.cc:140\n",
      "\n",
      "2023-11-24T20:53:45.397ZE [39580:ShellIpcClient] shell_ipc_client.cc:139:Connect Can't connect to socket at: \\\\.\\Pipe\\GoogleDriveFSPipe_aryan_shell\n",
      "2023-11-24T20:53:45.397ZE [39580:ShellIpcClient] shell_ipc_client.cc:622:operator() Failed to connect to the server: NOT_FOUND: Can't connect to socket at: \\\\.\\Pipe\\GoogleDriveFSPipe_aryan_shell [type.googleapis.com/drive.ds.Status='UNAVAILABLE_RESOURCE']\n",
      "=== Source Location Trace: === \n",
      "apps/drive/fs/ipc/shell_ipc_client.cc:140\n",
      "\n"
     ]
    }
   ],
   "source": [
    "!cd {LABELIMG_PATH} && python labelImg.py"
   ]
  },
  {
   "cell_type": "markdown",
   "metadata": {},
   "source": [
    "# 6. Move them into a Training and Testing Partition"
   ]
  },
  {
   "cell_type": "markdown",
   "metadata": {},
   "source": [
    "# OPTIONAL - 7. Compress them for Colab Training"
   ]
  },
  {
   "cell_type": "code",
   "execution_count": 20,
   "metadata": {},
   "outputs": [],
   "source": [
    "TRAIN_PATH = os.path.join('Tensorflow', 'workspace', 'images', 'train')\n",
    "TEST_PATH = os.path.join('Tensorflow', 'workspace', 'images', 'test')\n",
    "ARCHIVE_PATH = os.path.join('Tensorflow', 'workspace', 'images', 'archive.tar.gz')"
   ]
  },
  {
   "cell_type": "code",
   "execution_count": 21,
   "metadata": {},
   "outputs": [],
   "source": [
    "!tar -czf {ARCHIVE_PATH} {TRAIN_PATH} {TEST_PATH}"
   ]
  },
  {
   "cell_type": "code",
   "execution_count": null,
   "metadata": {},
   "outputs": [],
   "source": []
  }
 ],
 "metadata": {
  "kernelspec": {
   "display_name": "tfod",
   "language": "python",
   "name": "tfod"
  },
  "language_info": {
   "codemirror_mode": {
    "name": "ipython",
    "version": 3
   },
   "file_extension": ".py",
   "mimetype": "text/x-python",
   "name": "python",
   "nbconvert_exporter": "python",
   "pygments_lexer": "ipython3",
   "version": "3.12.0"
  }
 },
 "nbformat": 4,
 "nbformat_minor": 4
}
